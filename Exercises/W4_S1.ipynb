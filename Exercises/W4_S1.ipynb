{
  "nbformat": 4,
  "nbformat_minor": 0,
  "metadata": {
    "colab": {
      "name": "W4_S1.ipynb",
      "provenance": [],
      "include_colab_link": true
    },
    "kernelspec": {
      "name": "python3",
      "display_name": "Python 3"
    },
    "language_info": {
      "name": "python"
    }
  },
  "cells": [
    {
      "cell_type": "markdown",
      "metadata": {
        "id": "view-in-github",
        "colab_type": "text"
      },
      "source": [
        "<a href=\"https://colab.research.google.com/github/dorunbek/2022_Intro_Python/blob/main/Exercises/W4_S1.ipynb\" target=\"_parent\"><img src=\"https://colab.research.google.com/assets/colab-badge.svg\" alt=\"Open In Colab\"/></a>"
      ]
    },
    {
      "cell_type": "markdown",
      "source": [
        "### **Exercise: Multivariate Linear Regression**\n",
        "What if our dataset has multiple dimensions and we want to find equations that looks something like this?\n",
        "$$\n",
        "y = w_1 x_1 + w_2 x_2 + w_3 x_3 + ... + b\n",
        "$$\n",
        "\n",
        "Here we show how we would do it with scikit-learn to find a linear equation that describes the Kaggle [Advertising dataset](https://www.kaggle.com/datasets/bumba5341/advertisingcsv?resource=download)"
      ],
      "metadata": {
        "id": "X-Vw_8lxnRiO"
      }
    },
    {
      "cell_type": "markdown",
      "source": [
        "**Q1: Use pandas to import the advertising dataset**"
      ],
      "metadata": {
        "id": "ISJd4ihEnVTl"
      }
    },
    {
      "cell_type": "code",
      "source": [
        "import numpy as np\n",
        "import matplotlib.pyplot as plt\n",
        "import pooch\n",
        "import urllib.request\n",
        "import pandas as pd"
      ],
      "metadata": {
        "id": "nLNGTIiSLjjO"
      },
      "execution_count": 2,
      "outputs": []
    },
    {
      "cell_type": "code",
      "source": [
        "myadvertising = pooch.retrieve('https://unils-my.sharepoint.com/:x:/g/personal/tom_beucler_unil_ch/EeqnI6nF9iBAkUOACbZ3mWUBDZ8N5mVP1oOaFd4vy6tIzw?download=1', \n",
        "                          known_hash='69104adc017e75d7019f61fe66ca2eb4ab014ee6f2a9b39b452943f209352010')"
      ],
      "metadata": {
        "id": "65S4_FN0LmtV",
        "outputId": "7ea6923e-0aea-4f41-f1fe-25eebaa8b6b3",
        "colab": {
          "base_uri": "https://localhost:8080/"
        }
      },
      "execution_count": 3,
      "outputs": [
        {
          "output_type": "stream",
          "name": "stderr",
          "text": [
            "Downloading data from 'https://unils-my.sharepoint.com/:x:/g/personal/tom_beucler_unil_ch/EeqnI6nF9iBAkUOACbZ3mWUBDZ8N5mVP1oOaFd4vy6tIzw?download=1' to file '/root/.cache/pooch/271dfe3e2b688abba76aa7d860de6650-EeqnI6nF9iBAkUOACbZ3mWUBDZ8N5mVP1oOaFd4vy6tIzw'.\n"
          ]
        }
      ]
    },
    {
      "cell_type": "code",
      "source": [
        "# Q1a: Use pandas to import the dataset\n",
        "df = pd.read_csv(myadvertising)\n",
        "# Q1b: Display the first rows of the data with pandas\n",
        "df.head()"
      ],
      "metadata": {
        "id": "wu4ncsMYnStF",
        "outputId": "a0e846f5-cc05-4a13-8db0-016c9942b2fb",
        "colab": {
          "base_uri": "https://localhost:8080/",
          "height": 204
        }
      },
      "execution_count": 4,
      "outputs": [
        {
          "output_type": "execute_result",
          "data": {
            "text/plain": [
              "   Unnamed: 0     TV  Radio  Newspaper  Sales\n",
              "0           1  230.1   37.8       69.2   22.1\n",
              "1           2   44.5   39.3       45.1   10.4\n",
              "2           3   17.2   45.9       69.3    9.3\n",
              "3           4  151.5   41.3       58.5   18.5\n",
              "4           5  180.8   10.8       58.4   12.9"
            ],
            "text/html": [
              "\n",
              "  <div id=\"df-195e2df4-69ca-4691-b512-fd0927b962aa\">\n",
              "    <div class=\"colab-df-container\">\n",
              "      <div>\n",
              "<style scoped>\n",
              "    .dataframe tbody tr th:only-of-type {\n",
              "        vertical-align: middle;\n",
              "    }\n",
              "\n",
              "    .dataframe tbody tr th {\n",
              "        vertical-align: top;\n",
              "    }\n",
              "\n",
              "    .dataframe thead th {\n",
              "        text-align: right;\n",
              "    }\n",
              "</style>\n",
              "<table border=\"1\" class=\"dataframe\">\n",
              "  <thead>\n",
              "    <tr style=\"text-align: right;\">\n",
              "      <th></th>\n",
              "      <th>Unnamed: 0</th>\n",
              "      <th>TV</th>\n",
              "      <th>Radio</th>\n",
              "      <th>Newspaper</th>\n",
              "      <th>Sales</th>\n",
              "    </tr>\n",
              "  </thead>\n",
              "  <tbody>\n",
              "    <tr>\n",
              "      <th>0</th>\n",
              "      <td>1</td>\n",
              "      <td>230.1</td>\n",
              "      <td>37.8</td>\n",
              "      <td>69.2</td>\n",
              "      <td>22.1</td>\n",
              "    </tr>\n",
              "    <tr>\n",
              "      <th>1</th>\n",
              "      <td>2</td>\n",
              "      <td>44.5</td>\n",
              "      <td>39.3</td>\n",
              "      <td>45.1</td>\n",
              "      <td>10.4</td>\n",
              "    </tr>\n",
              "    <tr>\n",
              "      <th>2</th>\n",
              "      <td>3</td>\n",
              "      <td>17.2</td>\n",
              "      <td>45.9</td>\n",
              "      <td>69.3</td>\n",
              "      <td>9.3</td>\n",
              "    </tr>\n",
              "    <tr>\n",
              "      <th>3</th>\n",
              "      <td>4</td>\n",
              "      <td>151.5</td>\n",
              "      <td>41.3</td>\n",
              "      <td>58.5</td>\n",
              "      <td>18.5</td>\n",
              "    </tr>\n",
              "    <tr>\n",
              "      <th>4</th>\n",
              "      <td>5</td>\n",
              "      <td>180.8</td>\n",
              "      <td>10.8</td>\n",
              "      <td>58.4</td>\n",
              "      <td>12.9</td>\n",
              "    </tr>\n",
              "  </tbody>\n",
              "</table>\n",
              "</div>\n",
              "      <button class=\"colab-df-convert\" onclick=\"convertToInteractive('df-195e2df4-69ca-4691-b512-fd0927b962aa')\"\n",
              "              title=\"Convert this dataframe to an interactive table.\"\n",
              "              style=\"display:none;\">\n",
              "        \n",
              "  <svg xmlns=\"http://www.w3.org/2000/svg\" height=\"24px\"viewBox=\"0 0 24 24\"\n",
              "       width=\"24px\">\n",
              "    <path d=\"M0 0h24v24H0V0z\" fill=\"none\"/>\n",
              "    <path d=\"M18.56 5.44l.94 2.06.94-2.06 2.06-.94-2.06-.94-.94-2.06-.94 2.06-2.06.94zm-11 1L8.5 8.5l.94-2.06 2.06-.94-2.06-.94L8.5 2.5l-.94 2.06-2.06.94zm10 10l.94 2.06.94-2.06 2.06-.94-2.06-.94-.94-2.06-.94 2.06-2.06.94z\"/><path d=\"M17.41 7.96l-1.37-1.37c-.4-.4-.92-.59-1.43-.59-.52 0-1.04.2-1.43.59L10.3 9.45l-7.72 7.72c-.78.78-.78 2.05 0 2.83L4 21.41c.39.39.9.59 1.41.59.51 0 1.02-.2 1.41-.59l7.78-7.78 2.81-2.81c.8-.78.8-2.07 0-2.86zM5.41 20L4 18.59l7.72-7.72 1.47 1.35L5.41 20z\"/>\n",
              "  </svg>\n",
              "      </button>\n",
              "      \n",
              "  <style>\n",
              "    .colab-df-container {\n",
              "      display:flex;\n",
              "      flex-wrap:wrap;\n",
              "      gap: 12px;\n",
              "    }\n",
              "\n",
              "    .colab-df-convert {\n",
              "      background-color: #E8F0FE;\n",
              "      border: none;\n",
              "      border-radius: 50%;\n",
              "      cursor: pointer;\n",
              "      display: none;\n",
              "      fill: #1967D2;\n",
              "      height: 32px;\n",
              "      padding: 0 0 0 0;\n",
              "      width: 32px;\n",
              "    }\n",
              "\n",
              "    .colab-df-convert:hover {\n",
              "      background-color: #E2EBFA;\n",
              "      box-shadow: 0px 1px 2px rgba(60, 64, 67, 0.3), 0px 1px 3px 1px rgba(60, 64, 67, 0.15);\n",
              "      fill: #174EA6;\n",
              "    }\n",
              "\n",
              "    [theme=dark] .colab-df-convert {\n",
              "      background-color: #3B4455;\n",
              "      fill: #D2E3FC;\n",
              "    }\n",
              "\n",
              "    [theme=dark] .colab-df-convert:hover {\n",
              "      background-color: #434B5C;\n",
              "      box-shadow: 0px 1px 3px 1px rgba(0, 0, 0, 0.15);\n",
              "      filter: drop-shadow(0px 1px 2px rgba(0, 0, 0, 0.3));\n",
              "      fill: #FFFFFF;\n",
              "    }\n",
              "  </style>\n",
              "\n",
              "      <script>\n",
              "        const buttonEl =\n",
              "          document.querySelector('#df-195e2df4-69ca-4691-b512-fd0927b962aa button.colab-df-convert');\n",
              "        buttonEl.style.display =\n",
              "          google.colab.kernel.accessAllowed ? 'block' : 'none';\n",
              "\n",
              "        async function convertToInteractive(key) {\n",
              "          const element = document.querySelector('#df-195e2df4-69ca-4691-b512-fd0927b962aa');\n",
              "          const dataTable =\n",
              "            await google.colab.kernel.invokeFunction('convertToInteractive',\n",
              "                                                     [key], {});\n",
              "          if (!dataTable) return;\n",
              "\n",
              "          const docLinkHtml = 'Like what you see? Visit the ' +\n",
              "            '<a target=\"_blank\" href=https://colab.research.google.com/notebooks/data_table.ipynb>data table notebook</a>'\n",
              "            + ' to learn more about interactive tables.';\n",
              "          element.innerHTML = '';\n",
              "          dataTable['output_type'] = 'display_data';\n",
              "          await google.colab.output.renderOutput(dataTable, element);\n",
              "          const docLink = document.createElement('div');\n",
              "          docLink.innerHTML = docLinkHtml;\n",
              "          element.appendChild(docLink);\n",
              "        }\n",
              "      </script>\n",
              "    </div>\n",
              "  </div>\n",
              "  "
            ]
          },
          "metadata": {},
          "execution_count": 4
        }
      ]
    },
    {
      "cell_type": "markdown",
      "source": [
        "**Q2: Try to use scikit-learn linear regression model to predict \"Sales\" from \n",
        "three columns \"TV\", \"Radio\", \"Newspaper\"**\n",
        "\n",
        "This model will basically tell us how sales would change if we put resources to advertise products in three different medias."
      ],
      "metadata": {
        "id": "kFlc8eGznatT"
      }
    },
    {
      "cell_type": "markdown",
      "source": [
        "Hints: Check out the [documentation](https://scikit-learn.org/stable/modules/generated/sklearn.linear_model.LinearRegression.html) for the `linear-model` module in scikit-learn before you train the model"
      ],
      "metadata": {
        "id": "dxIgpGguyVgT"
      }
    },
    {
      "cell_type": "code",
      "source": [
        "from sklearn.linear_model import LinearRegression\n",
        "\n",
        "# Construct Input / Output matrices\n",
        "Xall = df[['TV','Radio','Newspaper']].values\n",
        "y = df['Sales'].values\n",
        "\n",
        "\n",
        "linreg = LinearRegression()\n",
        "linreg.fit(Xall, y)\n",
        "y_pred = linreg.predict(Xall)"
      ],
      "metadata": {
        "id": "e5D0eDP-nfwQ"
      },
      "execution_count": 6,
      "outputs": []
    },
    {
      "cell_type": "markdown",
      "source": [
        "**Q3: Print out the linear equation coefficients and intercept**\n",
        "\n",
        "Hints: \n",
        "\n",
        "(1) When you print the coefficients and intercepts, try to retain only the first two digits. One way to do it is through the `.round()` function in `numpy`\n",
        "\n",
        "(2) Check out the scikit-learn `linear-model` module for instructions on extracting the coefficients and intercepts of the trained model.\n"
      ],
      "metadata": {
        "id": "7HVwwqUNniQg"
      }
    },
    {
      "cell_type": "code",
      "source": [
        "# Print your coefficients and intercept here.\n",
        "print(f'Coefficients {y_pred}, Intercept {Xall}' )"
      ],
      "metadata": {
        "id": "AeRFXcB0noMq",
        "outputId": "cbc2516d-fd0a-4ef4-c04c-fe357d4e85a6",
        "colab": {
          "base_uri": "https://localhost:8080/"
        }
      },
      "execution_count": 7,
      "outputs": [
        {
          "output_type": "stream",
          "name": "stdout",
          "text": [
            "Coefficients [20.52397441 12.33785482 12.30767078 17.59782951 13.18867186 12.47834763\n",
            " 11.72975995 12.12295317  3.72734086 12.55084872  7.0322992  17.28512918\n",
            " 10.57712073  8.82630048 18.43436638 20.81929952 12.82365674 23.22495716\n",
            "  9.95168206 14.16607293 18.10076728 14.7405382   6.4891503  16.5459329\n",
            "  8.14651887 15.6100386  14.98951429 17.05167344 19.41053803  9.14402389\n",
            " 21.6339338  11.3460929   7.63888314 18.86426829  7.57483051 17.00682618\n",
            " 23.40590052 15.62347779  9.90868103 20.44761039 16.37766467 17.2959832\n",
            " 21.59580326 13.96385684  8.88787996 15.16152314  8.87338673 21.7226299\n",
            " 16.26362018  8.1681656  12.63121132  9.33981296 20.66297563 19.94469957\n",
            " 20.37443008 21.2926106   8.52771254 12.77458802 21.89805198 18.13348698\n",
            "  5.74215558 22.89067208 16.78426073 13.21069202 16.97773556  7.84904532\n",
            "  9.01603163 12.0370073  18.97657924 21.10891244 17.77949782 10.62693815\n",
            " 10.36684881  9.90298206 17.32931197 11.85832174  4.47758904 13.81190223\n",
            "  8.81331353  9.67530328 11.44592364 14.64794093 10.17840799 14.42184212\n",
            " 20.78136464 15.18140789 11.59870739 15.59378475 11.71127101 16.92225511\n",
            "  9.99922965  4.49631598 19.15639616 21.22757378 10.48212385 16.31492112\n",
            " 12.63571716 15.33707782 24.11860723 16.94035021 13.87595844 23.24248685\n",
            " 17.64409385 14.76221142 20.30110878 17.93641467  6.12602215  7.10850249\n",
            "  3.58725841 19.69293106 14.7598741  21.14027498 13.88060985 16.40377623\n",
            " 15.30509593 12.91968895 11.97874744  6.5707774  15.56609348  6.82006767\n",
            " 14.41010605  7.83807642 13.6264571  15.0827909  19.45441306  9.12734958\n",
            " 10.57717411  6.599669   22.25549161  7.88410649 10.4276871  15.57779819\n",
            "  8.44915012 19.26692307 11.8368039  14.00141385 11.45348627 20.85125198\n",
            "  9.76842795 19.67547632  9.48964097 18.39902932 19.24986927  8.76480262\n",
            " 10.09133403  9.70853872 15.29422368 23.26086103 12.26335941  9.8272711\n",
            " 18.36720534 10.0095377  16.3600003  18.22390132 15.50161696  5.3075589\n",
            " 15.38485192 10.0143112  10.38419866 12.39914823 14.21383298 13.55914568\n",
            " 14.94678206 17.35163608 11.0682946  14.22372138 10.82439531 13.36324677\n",
            " 17.1861428  17.9415563   7.39497997 14.35827373  7.60769238 11.97093887\n",
            " 13.74435742 24.78687031 19.9793727  12.1620464  16.01099722 12.38455495\n",
            " 10.5871997  13.92809918  6.55467    24.13310013 18.53852096 20.80301059\n",
            "  9.69137313 17.07644223 18.64430648  6.05162411 12.4891591   8.42401933\n",
            "  4.46622956 18.48695797 16.49530044  5.37034248  8.16531236 12.78592082\n",
            " 23.76732149 15.17319554], Intercept [[230.1  37.8  69.2]\n",
            " [ 44.5  39.3  45.1]\n",
            " [ 17.2  45.9  69.3]\n",
            " [151.5  41.3  58.5]\n",
            " [180.8  10.8  58.4]\n",
            " [  8.7  48.9  75. ]\n",
            " [ 57.5  32.8  23.5]\n",
            " [120.2  19.6  11.6]\n",
            " [  8.6   2.1   1. ]\n",
            " [199.8   2.6  21.2]\n",
            " [ 66.1   5.8  24.2]\n",
            " [214.7  24.    4. ]\n",
            " [ 23.8  35.1  65.9]\n",
            " [ 97.5   7.6   7.2]\n",
            " [204.1  32.9  46. ]\n",
            " [195.4  47.7  52.9]\n",
            " [ 67.8  36.6 114. ]\n",
            " [281.4  39.6  55.8]\n",
            " [ 69.2  20.5  18.3]\n",
            " [147.3  23.9  19.1]\n",
            " [218.4  27.7  53.4]\n",
            " [237.4   5.1  23.5]\n",
            " [ 13.2  15.9  49.6]\n",
            " [228.3  16.9  26.2]\n",
            " [ 62.3  12.6  18.3]\n",
            " [262.9   3.5  19.5]\n",
            " [142.9  29.3  12.6]\n",
            " [240.1  16.7  22.9]\n",
            " [248.8  27.1  22.9]\n",
            " [ 70.6  16.   40.8]\n",
            " [292.9  28.3  43.2]\n",
            " [112.9  17.4  38.6]\n",
            " [ 97.2   1.5  30. ]\n",
            " [265.6  20.    0.3]\n",
            " [ 95.7   1.4   7.4]\n",
            " [290.7   4.1   8.5]\n",
            " [266.9  43.8   5. ]\n",
            " [ 74.7  49.4  45.7]\n",
            " [ 43.1  26.7  35.1]\n",
            " [228.   37.7  32. ]\n",
            " [202.5  22.3  31.6]\n",
            " [177.   33.4  38.7]\n",
            " [293.6  27.7   1.8]\n",
            " [206.9   8.4  26.4]\n",
            " [ 25.1  25.7  43.3]\n",
            " [175.1  22.5  31.5]\n",
            " [ 89.7   9.9  35.7]\n",
            " [239.9  41.5  18.5]\n",
            " [227.2  15.8  49.9]\n",
            " [ 66.9  11.7  36.8]\n",
            " [199.8   3.1  34.6]\n",
            " [100.4   9.6   3.6]\n",
            " [216.4  41.7  39.6]\n",
            " [182.6  46.2  58.7]\n",
            " [262.7  28.8  15.9]\n",
            " [198.9  49.4  60. ]\n",
            " [  7.3  28.1  41.4]\n",
            " [136.2  19.2  16.6]\n",
            " [210.8  49.6  37.7]\n",
            " [210.7  29.5   9.3]\n",
            " [ 53.5   2.   21.4]\n",
            " [261.3  42.7  54.7]\n",
            " [239.3  15.5  27.3]\n",
            " [102.7  29.6   8.4]\n",
            " [131.1  42.8  28.9]\n",
            " [ 69.    9.3   0.9]\n",
            " [ 31.5  24.6   2.2]\n",
            " [139.3  14.5  10.2]\n",
            " [237.4  27.5  11. ]\n",
            " [216.8  43.9  27.2]\n",
            " [199.1  30.6  38.7]\n",
            " [109.8  14.3  31.7]\n",
            " [ 26.8  33.   19.3]\n",
            " [129.4   5.7  31.3]\n",
            " [213.4  24.6  13.1]\n",
            " [ 16.9  43.7  89.4]\n",
            " [ 27.5   1.6  20.7]\n",
            " [120.5  28.5  14.2]\n",
            " [  5.4  29.9   9.4]\n",
            " [116.    7.7  23.1]\n",
            " [ 76.4  26.7  22.3]\n",
            " [239.8   4.1  36.9]\n",
            " [ 75.3  20.3  32.5]\n",
            " [ 68.4  44.5  35.6]\n",
            " [213.5  43.   33.8]\n",
            " [193.2  18.4  65.7]\n",
            " [ 76.3  27.5  16. ]\n",
            " [110.7  40.6  63.2]\n",
            " [ 88.3  25.5  73.4]\n",
            " [109.8  47.8  51.4]\n",
            " [134.3   4.9   9.3]\n",
            " [ 28.6   1.5  33. ]\n",
            " [217.7  33.5  59. ]\n",
            " [250.9  36.5  72.3]\n",
            " [107.4  14.   10.9]\n",
            " [163.3  31.6  52.9]\n",
            " [197.6   3.5   5.9]\n",
            " [184.9  21.   22. ]\n",
            " [289.7  42.3  51.2]\n",
            " [135.2  41.7  45.9]\n",
            " [222.4   4.3  49.8]\n",
            " [296.4  36.3 100.9]\n",
            " [280.2  10.1  21.4]\n",
            " [187.9  17.2  17.9]\n",
            " [238.2  34.3   5.3]\n",
            " [137.9  46.4  59. ]\n",
            " [ 25.   11.   29.7]\n",
            " [ 90.4   0.3  23.2]\n",
            " [ 13.1   0.4  25.6]\n",
            " [255.4  26.9   5.5]\n",
            " [225.8   8.2  56.5]\n",
            " [241.7  38.   23.2]\n",
            " [175.7  15.4   2.4]\n",
            " [209.6  20.6  10.7]\n",
            " [ 78.2  46.8  34.5]\n",
            " [ 75.1  35.   52.7]\n",
            " [139.2  14.3  25.6]\n",
            " [ 76.4   0.8  14.8]\n",
            " [125.7  36.9  79.2]\n",
            " [ 19.4  16.   22.3]\n",
            " [141.3  26.8  46.2]\n",
            " [ 18.8  21.7  50.4]\n",
            " [224.    2.4  15.6]\n",
            " [123.1  34.6  12.4]\n",
            " [229.5  32.3  74.2]\n",
            " [ 87.2  11.8  25.9]\n",
            " [  7.8  38.9  50.6]\n",
            " [ 80.2   0.    9.2]\n",
            " [220.3  49.    3.2]\n",
            " [ 59.6  12.   43.1]\n",
            " [  0.7  39.6   8.7]\n",
            " [265.2   2.9  43. ]\n",
            " [  8.4  27.2   2.1]\n",
            " [219.8  33.5  45.1]\n",
            " [ 36.9  38.6  65.6]\n",
            " [ 48.3  47.    8.5]\n",
            " [ 25.6  39.    9.3]\n",
            " [273.7  28.9  59.7]\n",
            " [ 43.   25.9  20.5]\n",
            " [184.9  43.9   1.7]\n",
            " [ 73.4  17.   12.9]\n",
            " [193.7  35.4  75.6]\n",
            " [220.5  33.2  37.9]\n",
            " [104.6   5.7  34.4]\n",
            " [ 96.2  14.8  38.9]\n",
            " [140.3   1.9   9. ]\n",
            " [240.1   7.3   8.7]\n",
            " [243.2  49.   44.3]\n",
            " [ 38.   40.3  11.9]\n",
            " [ 44.7  25.8  20.6]\n",
            " [280.7  13.9  37. ]\n",
            " [121.    8.4  48.7]\n",
            " [197.6  23.3  14.2]\n",
            " [171.3  39.7  37.7]\n",
            " [187.8  21.1   9.5]\n",
            " [  4.1  11.6   5.7]\n",
            " [ 93.9  43.5  50.5]\n",
            " [149.8   1.3  24.3]\n",
            " [ 11.7  36.9  45.2]\n",
            " [131.7  18.4  34.6]\n",
            " [172.5  18.1  30.7]\n",
            " [ 85.7  35.8  49.3]\n",
            " [188.4  18.1  25.6]\n",
            " [163.5  36.8   7.4]\n",
            " [117.2  14.7   5.4]\n",
            " [234.5   3.4  84.8]\n",
            " [ 17.9  37.6  21.6]\n",
            " [206.8   5.2  19.4]\n",
            " [215.4  23.6  57.6]\n",
            " [284.3  10.6   6.4]\n",
            " [ 50.   11.6  18.4]\n",
            " [164.5  20.9  47.4]\n",
            " [ 19.6  20.1  17. ]\n",
            " [168.4   7.1  12.8]\n",
            " [222.4   3.4  13.1]\n",
            " [276.9  48.9  41.8]\n",
            " [248.4  30.2  20.3]\n",
            " [170.2   7.8  35.2]\n",
            " [276.7   2.3  23.7]\n",
            " [165.6  10.   17.6]\n",
            " [156.6   2.6   8.3]\n",
            " [218.5   5.4  27.4]\n",
            " [ 56.2   5.7  29.7]\n",
            " [287.6  43.   71.8]\n",
            " [253.8  21.3  30. ]\n",
            " [205.   45.1  19.6]\n",
            " [139.5   2.1  26.6]\n",
            " [191.1  28.7  18.2]\n",
            " [286.   13.9   3.7]\n",
            " [ 18.7  12.1  23.4]\n",
            " [ 39.5  41.1   5.8]\n",
            " [ 75.5  10.8   6. ]\n",
            " [ 17.2   4.1  31.6]\n",
            " [166.8  42.    3.6]\n",
            " [149.7  35.6   6. ]\n",
            " [ 38.2   3.7  13.8]\n",
            " [ 94.2   4.9   8.1]\n",
            " [177.    9.3   6.4]\n",
            " [283.6  42.   66.2]\n",
            " [232.1   8.6   8.7]]\n"
          ]
        }
      ]
    },
    {
      "cell_type": "markdown",
      "source": [
        "### **Exercise: Clustering Penguin Dataset**\n",
        "\n",
        "In the exercise, we will try to repeat the k-mean clustering procedure introuduced in the tutorial, but on a different 2D variable plane. \n",
        "\n",
        "Let's try \"culmen_length_mm\" and \"Flipper_length_mm\"?\n",
        "\n",
        "Can we differentiate penguins from the length of the beak and their wings?\n",
        "\n",
        "<img style=\"padding: 10px; float:left;\" alt=\"20 points and their Voronoi cells by Balu Ertl CC BY-SA 4.0\" src=\"https://allisonhorst.github.io/palmerpenguins/reference/figures/culmen_depth.png\" width=\"400\">"
      ],
      "metadata": {
        "id": "rSAzg7l8GPR-"
      }
    },
    {
      "cell_type": "code",
      "source": [
        "\n",
        "penguinsize = pooch.retrieve('https://unils-my.sharepoint.com/:x:/g/personal/tom_beucler_unil_ch/ETfy8shC_PtBnsYren_f60UBSyn6Zz1CVvE0Z6_z575VZA?download=1', \n",
        "                          known_hash='aa728597b2228a2637e39c6f08e40a80971f4cdac7faf7bc21ff4481ee3e3ae9')\n",
        "\n",
        "penguins = pd.read_csv(penguinsize)\n",
        "print(penguins.head())"
      ],
      "metadata": {
        "colab": {
          "base_uri": "https://localhost:8080/"
        },
        "id": "Bm-TBjiBGhEo",
        "outputId": "d730abe3-e26d-47e6-ba8f-0d4a10f86179"
      },
      "execution_count": 8,
      "outputs": [
        {
          "output_type": "stream",
          "name": "stderr",
          "text": [
            "Downloading data from 'https://unils-my.sharepoint.com/:x:/g/personal/tom_beucler_unil_ch/ETfy8shC_PtBnsYren_f60UBSyn6Zz1CVvE0Z6_z575VZA?download=1' to file '/root/.cache/pooch/15990ae8be04e5655e98ecb908600619-ETfy8shC_PtBnsYren_f60UBSyn6Zz1CVvE0Z6_z575VZA'.\n"
          ]
        },
        {
          "output_type": "stream",
          "name": "stdout",
          "text": [
            "  species     island  culmen_length_mm  culmen_depth_mm  flipper_length_mm  \\\n",
            "0  Adelie  Torgersen              39.1             18.7              181.0   \n",
            "1  Adelie  Torgersen              39.5             17.4              186.0   \n",
            "2  Adelie  Torgersen              40.3             18.0              195.0   \n",
            "3  Adelie  Torgersen               NaN              NaN                NaN   \n",
            "4  Adelie  Torgersen              36.7             19.3              193.0   \n",
            "\n",
            "   body_mass_g     sex  \n",
            "0       3750.0    MALE  \n",
            "1       3800.0  FEMALE  \n",
            "2       3250.0  FEMALE  \n",
            "3          NaN     NaN  \n",
            "4       3450.0  FEMALE  \n"
          ]
        }
      ]
    },
    {
      "cell_type": "markdown",
      "source": [
        "#####**Task0: Data clean up. Remove all rows in the table if the rows contain missing values**\n",
        "\n",
        "Hint: `pandas` has a easy function for data clean up. Check out [documentation](https://pandas.pydata.org/pandas-docs/stable/reference/api/pandas.DataFrame.dropna.html) for details."
      ],
      "metadata": {
        "id": "A2pl7msL4k5x"
      }
    },
    {
      "cell_type": "code",
      "source": [
        "penguin_df = penguins.dropna()"
      ],
      "metadata": {
        "id": "sX2FHL_rGpmX"
      },
      "execution_count": 15,
      "outputs": []
    },
    {
      "cell_type": "markdown",
      "source": [
        "#####**Task1: Create an input dataset `X` with the culmen_length_mm and flipper_length_mm data columns**\n",
        "\n",
        "Hints: \n",
        "\n",
        "(1) The shape of your input data should be `(334, 2)`"
      ],
      "metadata": {
        "id": "LdITW6MVHG1B"
      }
    },
    {
      "cell_type": "code",
      "source": [
        "# Create your input for model training here\n",
        "# Input should contain penguin_df['culmen_length_mm'] and penguin_df['flipper_length_mm']\n",
        "X  = np.vstack((penguin_df['culmen_length_mm'],penguin_df['flipper_length_mm'])).T\n",
        "X.shape"
      ],
      "metadata": {
        "id": "jksxr7CVHaW1",
        "outputId": "a2a7f32d-583a-4dcf-dc4e-4f7fd95a4b9f",
        "colab": {
          "base_uri": "https://localhost:8080/"
        }
      },
      "execution_count": 21,
      "outputs": [
        {
          "output_type": "execute_result",
          "data": {
            "text/plain": [
              "(334, 2)"
            ]
          },
          "metadata": {},
          "execution_count": 21
        }
      ]
    },
    {
      "cell_type": "markdown",
      "source": [
        "#####**Task2: Train a k-means clustering algorithm, perform elbow test and silhouette analysis**\n",
        "\n",
        "Hints: \n",
        "\n",
        "(1) The documentation for KMeans clustering can be found [here](https://scikit-learn.org/stable/modules/generated/sklearn.cluster.KMeans.html?highlight=kmeans#sklearn.cluster.KMeans)\n",
        "\n",
        "(2) [Documentation](https://scikit-learn.org/stable/modules/generated/sklearn.metrics.silhouette_score.html?highlight=silhouette+score#sklearn.metrics.silhouette_score) for silhouette score analysis in scikit-learn"
      ],
      "metadata": {
        "id": "PgzlFwFX6Wdj"
      }
    },
    {
      "cell_type": "code",
      "source": [
        "# Import KMeans fron scikit-learn\n",
        "from sklearn.cluster import KMeans\n",
        "# Import Silhouette score fron scikit-learn\n",
        "from sklearn.metrics import silhouette_score"
      ],
      "metadata": {
        "id": "gnsvLh4zG6td"
      },
      "execution_count": 22,
      "outputs": []
    },
    {
      "cell_type": "code",
      "source": [
        "Sum_of_squared_distances = []\n",
        "K = range(1,10)\n",
        "for num_clusters in K :\n",
        " kmeans = KMeans(n_clusters=num_clusters)\n",
        " kmeans.fit(X)\n",
        " Sum_of_squared_distances.append(kmeans.inertia_)\n",
        "\n"
      ],
      "metadata": {
        "id": "57a4Qq2Y9N4Z"
      },
      "execution_count": 30,
      "outputs": []
    },
    {
      "cell_type": "code",
      "source": [
        "# To finish the elbow method analysis, plot the change in intertia when you change the number of clusters you used to train the k-means clustering algorithm.\n",
        "plt.plot(K,Sum_of_squared_distances,marker='s',c='k',lw=2)\n",
        "plt.xlabel('Number of Clusters') \n",
        "plt.ylabel('Sum of Squared Distances / Inertia') \n",
        "plt.title('Elbow Method for Optimal K')\n",
        "plt.show()"
      ],
      "metadata": {
        "id": "srkZ0WmL9Dgc",
        "outputId": "959115ba-1a55-43d6-d590-c24788dfab28",
        "colab": {
          "base_uri": "https://localhost:8080/",
          "height": 295
        }
      },
      "execution_count": 31,
      "outputs": [
        {
          "output_type": "display_data",
          "data": {
            "text/plain": [
              "<Figure size 432x288 with 1 Axes>"
            ],
            "image/png": "[encoded data removed]"
          },
          "metadata": {
            "needs_background": "light"
          }
        }
      ]
    },
    {
      "cell_type": "markdown",
      "source": [
        "This is what your TA got after filling in and running the code above."
      ],
      "metadata": {
        "id": "IyATmA40-y1h"
      }
    },
    {
      "cell_type": "markdown",
      "source": [
        "![plot1.png](data:image/png;base64,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)"
      ],
      "metadata": {
        "id": "j8OEHWC9-u7V"
      }
    },
    {
      "cell_type": "code",
      "source": [
        "# Import silhouette_score for analysis\n"
      ],
      "metadata": {
        "id": "FNksFnW29ybf"
      },
      "execution_count": null,
      "outputs": []
    },
    {
      "cell_type": "code",
      "source": [
        "# Perform silhouette analysis following instructions in the tutorial notebook\n",
        "# Store the K-means inertia in an empty list\n",
        "silhouette_avg = []\n",
        "for num_clusters in range(2,10):\n",
        "  # initialise kmeans\n",
        "  kmeans = KMeans(n_clusters=num_clusters)\n",
        "  kmeans.fit(X)\n",
        "  cluster_labels = kmeans.labels_\n",
        "  \n",
        "  # silhouette score\n",
        "  silhouette_avg.append(silhouette_score(X, cluster_labels))\n"
      ],
      "metadata": {
        "id": "BIibccJv9_FF"
      },
      "execution_count": 32,
      "outputs": []
    },
    {
      "cell_type": "code",
      "source": [
        "# Plot your silhouette analysis result here.\n",
        "plt.plot(range(2,10),silhouette_avg,marker='s',c='k',lw=2)\n",
        "plt.xlabel('Number of Clusters') \n",
        "plt.ylabel('Sum of Squared Distances / Inertia') \n",
        "plt.title('Elbow Method for Optimal K')\n",
        "plt.show()"
      ],
      "metadata": {
        "id": "cgVj3GMO3oyD",
        "outputId": "088c3802-7311-4605-ca9a-af47cc752f82",
        "colab": {
          "base_uri": "https://localhost:8080/",
          "height": 295
        }
      },
      "execution_count": 33,
      "outputs": [
        {
          "output_type": "display_data",
          "data": {
            "text/plain": [
              "<Figure size 432x288 with 1 Axes>"
            ],
            "image/png": "[encoded data removed]"
          },
          "metadata": {
            "needs_background": "light"
          }
        }
      ]
    },
    {
      "cell_type": "markdown",
      "source": [
        "Here is a screenshot of how the results should look like."
      ],
      "metadata": {
        "id": "od-I1rar_Bx6"
      }
    },
    {
      "cell_type": "markdown",
      "source": [
        "![plot2.png](data:image/png;base64,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)"
      ],
      "metadata": {
        "id": "yVBEJyjl-_k5"
      }
    },
    {
      "cell_type": "markdown",
      "source": [
        "Based on the silhouette and elbow analysis, it seems the either 2 or 3 clusters is suitable for this penguin dataset."
      ],
      "metadata": {
        "id": "6tKepyxgAiES"
      }
    },
    {
      "cell_type": "markdown",
      "source": [
        "##### **Task2: Perform KMeans clustering with 3 clusters**"
      ],
      "metadata": {
        "id": "2gnggr9DI5Ww"
      }
    },
    {
      "cell_type": "code",
      "source": [
        "# Train a k-means clustering model\n",
        "\n",
        "\n",
        "# Use the model to label all data points\n",
        "\n",
        "kmeans = KMeans(n_clusters=3)\n",
        "kmeans.fit(X)\n",
        "y_kmeans = kmeans.predict(X)\n",
        "print(y_kmeans)"
      ],
      "metadata": {
        "id": "ABcPMyIHJGgs",
        "outputId": "9a042d24-3b54-4b26-8e49-184fe6608116",
        "colab": {
          "base_uri": "https://localhost:8080/"
        }
      },
      "execution_count": 42,
      "outputs": [
        {
          "output_type": "stream",
          "name": "stdout",
          "text": [
            "[2 2 0 2 2 2 0 2 2 0 2 0 0 2 0 2 2 2 2 2 2 2 2 2 2 2 2 2 2 2 0 2 2 2 2 2 0\n",
            " 2 0 2 2 2 2 2 2 2 2 0 2 2 2 2 2 2 2 0 2 2 2 2 2 2 2 0 2 2 0 0 2 0 2 2 2 0\n",
            " 2 0 2 2 2 0 2 2 2 2 0 0 2 2 2 1 2 0 2 0 2 0 2 2 2 2 0 2 2 0 0 0 2 0 2 0 2\n",
            " 0 2 2 2 0 2 0 2 0 2 0 2 1 2 0 2 0 2 2 2 0 2 2 2 2 2 2 2 2 2 2 2 2 2 0 0 0\n",
            " 0 2 0 0 2 0 0 0 0 0 2 0 0 0 0 0 0 0 2 0 2 0 0 0 0 0 0 0 2 0 2 0 0 0 0 1 0\n",
            " 0 1 2 0 0 0 0 0 1 0 0 0 0 0 0 2 0 0 0 0 0 0 0 0 1 0 0 1 0 1 1 1 1 1 1 1 1\n",
            " 1 1 1 1 1 1 1 1 1 1 1 1 1 1 1 1 1 1 1 1 1 1 1 1 1 1 1 1 1 1 1 1 1 1 1 1 1\n",
            " 1 1 1 1 1 1 1 1 1 1 1 1 1 1 1 1 1 1 1 1 1 1 1 1 1 1 1 1 1 1 1 1 1 1 1 1 1\n",
            " 1 1 1 1 1 1 1 1 1 1 1 1 1 1 0 1 1 1 1 1 1 1 1 1 1 1 1 1 1 1 1 1 1 1 1 1 1\n",
            " 1]\n"
          ]
        }
      ]
    },
    {
      "cell_type": "markdown",
      "source": [
        "Now, our penguin dataset is labelled. So we can compare our clustering results with the truth to see how well our trained model performed."
      ],
      "metadata": {
        "id": "8W0ef_tlBR3j"
      }
    },
    {
      "cell_type": "markdown",
      "source": [
        "First store the predicted labels in the pandas dataframe"
      ],
      "metadata": {
        "id": "hmYFHqxZB5rJ"
      }
    },
    {
      "cell_type": "code",
      "source": [
        "penguin_df['predicted_labels'] = y_kmeans\n",
        "penguin_df.head()"
      ],
      "metadata": {
        "id": "CbIizf0NB4sD",
        "outputId": "3b94efc4-3d5e-4189-b6cd-d302e21c4cd8",
        "colab": {
          "base_uri": "https://localhost:8080/",
          "height": 370
        }
      },
      "execution_count": 39,
      "outputs": [
        {
          "output_type": "stream",
          "name": "stderr",
          "text": [
            "/usr/local/lib/python3.7/dist-packages/ipykernel_launcher.py:1: SettingWithCopyWarning: \n",
            "A value is trying to be set on a copy of a slice from a DataFrame.\n",
            "Try using .loc[row_indexer,col_indexer] = value instead\n",
            "\n",
            "See the caveats in the documentation: https://pandas.pydata.org/pandas-docs/stable/user_guide/indexing.html#returning-a-view-versus-a-copy\n",
            "  \"\"\"Entry point for launching an IPython kernel.\n"
          ]
        },
        {
          "output_type": "execute_result",
          "data": {
            "text/plain": [
              "  species     island  culmen_length_mm  culmen_depth_mm  flipper_length_mm  \\\n",
              "0  Adelie  Torgersen              39.1             18.7              181.0   \n",
              "1  Adelie  Torgersen              39.5             17.4              186.0   \n",
              "2  Adelie  Torgersen              40.3             18.0              195.0   \n",
              "4  Adelie  Torgersen              36.7             19.3              193.0   \n",
              "5  Adelie  Torgersen              39.3             20.6              190.0   \n",
              "\n",
              "   body_mass_g     sex  predicted_labels  \n",
              "0       3750.0    MALE                 0  \n",
              "1       3800.0  FEMALE                 0  \n",
              "2       3250.0  FEMALE                 2  \n",
              "4       3450.0  FEMALE                 0  \n",
              "5       3650.0    MALE                 0  "
            ],
            "text/html": [
              "\n",
              "  <div id=\"df-dc77481b-b168-49dd-8b79-5cdcbcefb789\">\n",
              "    <div class=\"colab-df-container\">\n",
              "      <div>\n",
              "<style scoped>\n",
              "    .dataframe tbody tr th:only-of-type {\n",
              "        vertical-align: middle;\n",
              "    }\n",
              "\n",
              "    .dataframe tbody tr th {\n",
              "        vertical-align: top;\n",
              "    }\n",
              "\n",
              "    .dataframe thead th {\n",
              "        text-align: right;\n",
              "    }\n",
              "</style>\n",
              "<table border=\"1\" class=\"dataframe\">\n",
              "  <thead>\n",
              "    <tr style=\"text-align: right;\">\n",
              "      <th></th>\n",
              "      <th>species</th>\n",
              "      <th>island</th>\n",
              "      <th>culmen_length_mm</th>\n",
              "      <th>culmen_depth_mm</th>\n",
              "      <th>flipper_length_mm</th>\n",
              "      <th>body_mass_g</th>\n",
              "      <th>sex</th>\n",
              "      <th>predicted_labels</th>\n",
              "    </tr>\n",
              "  </thead>\n",
              "  <tbody>\n",
              "    <tr>\n",
              "      <th>0</th>\n",
              "      <td>Adelie</td>\n",
              "      <td>Torgersen</td>\n",
              "      <td>39.1</td>\n",
              "      <td>18.7</td>\n",
              "      <td>181.0</td>\n",
              "      <td>3750.0</td>\n",
              "      <td>MALE</td>\n",
              "      <td>0</td>\n",
              "    </tr>\n",
              "    <tr>\n",
              "      <th>1</th>\n",
              "      <td>Adelie</td>\n",
              "      <td>Torgersen</td>\n",
              "      <td>39.5</td>\n",
              "      <td>17.4</td>\n",
              "      <td>186.0</td>\n",
              "      <td>3800.0</td>\n",
              "      <td>FEMALE</td>\n",
              "      <td>0</td>\n",
              "    </tr>\n",
              "    <tr>\n",
              "      <th>2</th>\n",
              "      <td>Adelie</td>\n",
              "      <td>Torgersen</td>\n",
              "      <td>40.3</td>\n",
              "      <td>18.0</td>\n",
              "      <td>195.0</td>\n",
              "      <td>3250.0</td>\n",
              "      <td>FEMALE</td>\n",
              "      <td>2</td>\n",
              "    </tr>\n",
              "    <tr>\n",
              "      <th>4</th>\n",
              "      <td>Adelie</td>\n",
              "      <td>Torgersen</td>\n",
              "      <td>36.7</td>\n",
              "      <td>19.3</td>\n",
              "      <td>193.0</td>\n",
              "      <td>3450.0</td>\n",
              "      <td>FEMALE</td>\n",
              "      <td>0</td>\n",
              "    </tr>\n",
              "    <tr>\n",
              "      <th>5</th>\n",
              "      <td>Adelie</td>\n",
              "      <td>Torgersen</td>\n",
              "      <td>39.3</td>\n",
              "      <td>20.6</td>\n",
              "      <td>190.0</td>\n",
              "      <td>3650.0</td>\n",
              "      <td>MALE</td>\n",
              "      <td>0</td>\n",
              "    </tr>\n",
              "  </tbody>\n",
              "</table>\n",
              "</div>\n",
              "      <button class=\"colab-df-convert\" onclick=\"convertToInteractive('df-dc77481b-b168-49dd-8b79-5cdcbcefb789')\"\n",
              "              title=\"Convert this dataframe to an interactive table.\"\n",
              "              style=\"display:none;\">\n",
              "        \n",
              "  <svg xmlns=\"http://www.w3.org/2000/svg\" height=\"24px\"viewBox=\"0 0 24 24\"\n",
              "       width=\"24px\">\n",
              "    <path d=\"M0 0h24v24H0V0z\" fill=\"none\"/>\n",
              "    <path d=\"M18.56 5.44l.94 2.06.94-2.06 2.06-.94-2.06-.94-.94-2.06-.94 2.06-2.06.94zm-11 1L8.5 8.5l.94-2.06 2.06-.94-2.06-.94L8.5 2.5l-.94 2.06-2.06.94zm10 10l.94 2.06.94-2.06 2.06-.94-2.06-.94-.94-2.06-.94 2.06-2.06.94z\"/><path d=\"M17.41 7.96l-1.37-1.37c-.4-.4-.92-.59-1.43-.59-.52 0-1.04.2-1.43.59L10.3 9.45l-7.72 7.72c-.78.78-.78 2.05 0 2.83L4 21.41c.39.39.9.59 1.41.59.51 0 1.02-.2 1.41-.59l7.78-7.78 2.81-2.81c.8-.78.8-2.07 0-2.86zM5.41 20L4 18.59l7.72-7.72 1.47 1.35L5.41 20z\"/>\n",
              "  </svg>\n",
              "      </button>\n",
              "      \n",
              "  <style>\n",
              "    .colab-df-container {\n",
              "      display:flex;\n",
              "      flex-wrap:wrap;\n",
              "      gap: 12px;\n",
              "    }\n",
              "\n",
              "    .colab-df-convert {\n",
              "      background-color: #E8F0FE;\n",
              "      border: none;\n",
              "      border-radius: 50%;\n",
              "      cursor: pointer;\n",
              "      display: none;\n",
              "      fill: #1967D2;\n",
              "      height: 32px;\n",
              "      padding: 0 0 0 0;\n",
              "      width: 32px;\n",
              "    }\n",
              "\n",
              "    .colab-df-convert:hover {\n",
              "      background-color: #E2EBFA;\n",
              "      box-shadow: 0px 1px 2px rgba(60, 64, 67, 0.3), 0px 1px 3px 1px rgba(60, 64, 67, 0.15);\n",
              "      fill: #174EA6;\n",
              "    }\n",
              "\n",
              "    [theme=dark] .colab-df-convert {\n",
              "      background-color: #3B4455;\n",
              "      fill: #D2E3FC;\n",
              "    }\n",
              "\n",
              "    [theme=dark] .colab-df-convert:hover {\n",
              "      background-color: #434B5C;\n",
              "      box-shadow: 0px 1px 3px 1px rgba(0, 0, 0, 0.15);\n",
              "      filter: drop-shadow(0px 1px 2px rgba(0, 0, 0, 0.3));\n",
              "      fill: #FFFFFF;\n",
              "    }\n",
              "  </style>\n",
              "\n",
              "      <script>\n",
              "        const buttonEl =\n",
              "          document.querySelector('#df-dc77481b-b168-49dd-8b79-5cdcbcefb789 button.colab-df-convert');\n",
              "        buttonEl.style.display =\n",
              "          google.colab.kernel.accessAllowed ? 'block' : 'none';\n",
              "\n",
              "        async function convertToInteractive(key) {\n",
              "          const element = document.querySelector('#df-dc77481b-b168-49dd-8b79-5cdcbcefb789');\n",
              "          const dataTable =\n",
              "            await google.colab.kernel.invokeFunction('convertToInteractive',\n",
              "                                                     [key], {});\n",
              "          if (!dataTable) return;\n",
              "\n",
              "          const docLinkHtml = 'Like what you see? Visit the ' +\n",
              "            '<a target=\"_blank\" href=https://colab.research.google.com/notebooks/data_table.ipynb>data table notebook</a>'\n",
              "            + ' to learn more about interactive tables.';\n",
              "          element.innerHTML = '';\n",
              "          dataTable['output_type'] = 'display_data';\n",
              "          await google.colab.output.renderOutput(dataTable, element);\n",
              "          const docLink = document.createElement('div');\n",
              "          docLink.innerHTML = docLinkHtml;\n",
              "          element.appendChild(docLink);\n",
              "        }\n",
              "      </script>\n",
              "    </div>\n",
              "  </div>\n",
              "  "
            ]
          },
          "metadata": {},
          "execution_count": 39
        }
      ]
    },
    {
      "cell_type": "markdown",
      "source": [
        "Then extract the culmen_length_mm and flipper_length_mm of the three penguin categories as truth"
      ],
      "metadata": {
        "id": "Qf6VRpZ7Cp05"
      }
    },
    {
      "cell_type": "code",
      "source": [
        "# Adelie\n",
        "\n",
        "# Gentoo\n",
        "\n",
        "# Chinstrap\n",
        "\n",
        "Adelie, Gentoo, Chinstrap = penguin_df[penguin_df['species']=='Adelie'], penguin_df[penguin_df['species']=='Gentoo'], \\\n",
        "penguin_df[penguin_df['species']=='Chinstrap']\n",
        "\n",
        "plt.scatter(Adelie['culmen_length_mm'], Adelie['flipper_length_mm'],s=50,marker='o',label='Adelie',c='cividis',edgecolors='k',linewidths=0.5)\n",
        "plt.scatter(Gentoo['culmen_length_mm'], Gentoo['flipper_length_mm'],s=30,marker='s',label='Gentoo',c='cividis',edgecolors='k',linewidths=0.5)\n",
        "plt.scatter(Chinstrap['culmen_length_mm'], Chinstrap['flipper_length_mm'],s=50,marker='*',label='Chinstrap',c='cividis',edgecolors='k',linewidths=0.5)\n",
        "plt.grid(linestyle='--',alpha=0.3)\n",
        "plt.ylabel('Flipper Length (mm)')\n",
        "plt.xlabel('Culmen length (mm)')\n",
        "plt.legend()\n",
        "plt.show()\n"
      ],
      "metadata": {
        "id": "eY8U1ok6Blry",
        "outputId": "2b9cca3a-15ee-4782-e34e-215ead0b2249",
        "colab": {
          "base_uri": "https://localhost:8080/",
          "height": 899
        }
      },
      "execution_count": 45,
      "outputs": [
        {
          "output_type": "error",
          "ename": "ValueError",
          "evalue": "ignored",
          "traceback": [
            "\u001b[0;31m---------------------------------------------------------------------------\u001b[0m",
            "\u001b[0;31mValueError\u001b[0m                                Traceback (most recent call last)",
            "\u001b[0;32m/usr/local/lib/python3.7/dist-packages/matplotlib/colors.py\u001b[0m in \u001b[0;36mto_rgba_array\u001b[0;34m(c, alpha)\u001b[0m\n\u001b[1;32m    324\u001b[0m         \u001b[0;32mtry\u001b[0m\u001b[0;34m:\u001b[0m\u001b[0;34m\u001b[0m\u001b[0;34m\u001b[0m\u001b[0m\n\u001b[0;32m--> 325\u001b[0;31m             \u001b[0mresult\u001b[0m \u001b[0;34m=\u001b[0m \u001b[0mnp\u001b[0m\u001b[0;34m.\u001b[0m\u001b[0marray\u001b[0m\u001b[0;34m(\u001b[0m\u001b[0;34m[\u001b[0m\u001b[0mto_rgba\u001b[0m\u001b[0;34m(\u001b[0m\u001b[0mcc\u001b[0m\u001b[0;34m,\u001b[0m \u001b[0malpha\u001b[0m\u001b[0;34m)\u001b[0m \u001b[0;32mfor\u001b[0m \u001b[0mcc\u001b[0m \u001b[0;32min\u001b[0m \u001b[0mc\u001b[0m\u001b[0;34m]\u001b[0m\u001b[0;34m)\u001b[0m\u001b[0;34m\u001b[0m\u001b[0;34m\u001b[0m\u001b[0m\n\u001b[0m\u001b[1;32m    326\u001b[0m         \u001b[0;32mexcept\u001b[0m \u001b[0mValueError\u001b[0m\u001b[0;34m:\u001b[0m\u001b[0;34m\u001b[0m\u001b[0;34m\u001b[0m\u001b[0m\n",
            "\u001b[0;32m/usr/local/lib/python3.7/dist-packages/matplotlib/colors.py\u001b[0m in \u001b[0;36m<listcomp>\u001b[0;34m(.0)\u001b[0m\n\u001b[1;32m    324\u001b[0m         \u001b[0;32mtry\u001b[0m\u001b[0;34m:\u001b[0m\u001b[0;34m\u001b[0m\u001b[0;34m\u001b[0m\u001b[0m\n\u001b[0;32m--> 325\u001b[0;31m             \u001b[0mresult\u001b[0m \u001b[0;34m=\u001b[0m \u001b[0mnp\u001b[0m\u001b[0;34m.\u001b[0m\u001b[0marray\u001b[0m\u001b[0;34m(\u001b[0m\u001b[0;34m[\u001b[0m\u001b[0mto_rgba\u001b[0m\u001b[0;34m(\u001b[0m\u001b[0mcc\u001b[0m\u001b[0;34m,\u001b[0m \u001b[0malpha\u001b[0m\u001b[0;34m)\u001b[0m \u001b[0;32mfor\u001b[0m \u001b[0mcc\u001b[0m \u001b[0;32min\u001b[0m \u001b[0mc\u001b[0m\u001b[0;34m]\u001b[0m\u001b[0;34m)\u001b[0m\u001b[0;34m\u001b[0m\u001b[0;34m\u001b[0m\u001b[0m\n\u001b[0m\u001b[1;32m    326\u001b[0m         \u001b[0;32mexcept\u001b[0m \u001b[0mValueError\u001b[0m\u001b[0;34m:\u001b[0m\u001b[0;34m\u001b[0m\u001b[0;34m\u001b[0m\u001b[0m\n",
            "\u001b[0;32m/usr/local/lib/python3.7/dist-packages/matplotlib/colors.py\u001b[0m in \u001b[0;36mto_rgba\u001b[0;34m(c, alpha)\u001b[0m\n\u001b[1;32m    184\u001b[0m     \u001b[0;32mif\u001b[0m \u001b[0mrgba\u001b[0m \u001b[0;32mis\u001b[0m \u001b[0;32mNone\u001b[0m\u001b[0;34m:\u001b[0m  \u001b[0;31m# Suppress exception chaining of cache lookup failure.\u001b[0m\u001b[0;34m\u001b[0m\u001b[0;34m\u001b[0m\u001b[0m\n\u001b[0;32m--> 185\u001b[0;31m         \u001b[0mrgba\u001b[0m \u001b[0;34m=\u001b[0m \u001b[0m_to_rgba_no_colorcycle\u001b[0m\u001b[0;34m(\u001b[0m\u001b[0mc\u001b[0m\u001b[0;34m,\u001b[0m \u001b[0malpha\u001b[0m\u001b[0;34m)\u001b[0m\u001b[0;34m\u001b[0m\u001b[0;34m\u001b[0m\u001b[0m\n\u001b[0m\u001b[1;32m    186\u001b[0m         \u001b[0;32mtry\u001b[0m\u001b[0;34m:\u001b[0m\u001b[0;34m\u001b[0m\u001b[0;34m\u001b[0m\u001b[0m\n",
            "\u001b[0;32m/usr/local/lib/python3.7/dist-packages/matplotlib/colors.py\u001b[0m in \u001b[0;36m_to_rgba_no_colorcycle\u001b[0;34m(c, alpha)\u001b[0m\n\u001b[1;32m    260\u001b[0m             \u001b[0;32mreturn\u001b[0m \u001b[0mc\u001b[0m\u001b[0;34m,\u001b[0m \u001b[0mc\u001b[0m\u001b[0;34m,\u001b[0m \u001b[0mc\u001b[0m\u001b[0;34m,\u001b[0m \u001b[0malpha\u001b[0m \u001b[0;32mif\u001b[0m \u001b[0malpha\u001b[0m \u001b[0;32mis\u001b[0m \u001b[0;32mnot\u001b[0m \u001b[0;32mNone\u001b[0m \u001b[0;32melse\u001b[0m \u001b[0;36m1.\u001b[0m\u001b[0;34m\u001b[0m\u001b[0;34m\u001b[0m\u001b[0m\n\u001b[0;32m--> 261\u001b[0;31m         \u001b[0;32mraise\u001b[0m \u001b[0mValueError\u001b[0m\u001b[0;34m(\u001b[0m\u001b[0;34mf\"Invalid RGBA argument: {orig_c!r}\"\u001b[0m\u001b[0;34m)\u001b[0m\u001b[0;34m\u001b[0m\u001b[0;34m\u001b[0m\u001b[0m\n\u001b[0m\u001b[1;32m    262\u001b[0m     \u001b[0;31m# tuple color.\u001b[0m\u001b[0;34m\u001b[0m\u001b[0;34m\u001b[0m\u001b[0;34m\u001b[0m\u001b[0m\n",
            "\u001b[0;31mValueError\u001b[0m: Invalid RGBA argument: 'i'",
            "\nDuring handling of the above exception, another exception occurred:\n",
            "\u001b[0;31mValueError\u001b[0m                                Traceback (most recent call last)",
            "\u001b[0;32m/usr/local/lib/python3.7/dist-packages/matplotlib/axes/_axes.py\u001b[0m in \u001b[0;36m_parse_scatter_color_args\u001b[0;34m(c, edgecolors, kwargs, xsize, get_next_color_func)\u001b[0m\n\u001b[1;32m   4238\u001b[0m             \u001b[0;32mtry\u001b[0m\u001b[0;34m:\u001b[0m  \u001b[0;31m# Is 'c' acceptable as PathCollection facecolors?\u001b[0m\u001b[0;34m\u001b[0m\u001b[0;34m\u001b[0m\u001b[0m\n\u001b[0;32m-> 4239\u001b[0;31m                 \u001b[0mcolors\u001b[0m \u001b[0;34m=\u001b[0m \u001b[0mmcolors\u001b[0m\u001b[0;34m.\u001b[0m\u001b[0mto_rgba_array\u001b[0m\u001b[0;34m(\u001b[0m\u001b[0mc\u001b[0m\u001b[0;34m)\u001b[0m\u001b[0;34m\u001b[0m\u001b[0;34m\u001b[0m\u001b[0m\n\u001b[0m\u001b[1;32m   4240\u001b[0m             \u001b[0;32mexcept\u001b[0m \u001b[0mValueError\u001b[0m\u001b[0;34m:\u001b[0m\u001b[0;34m\u001b[0m\u001b[0;34m\u001b[0m\u001b[0m\n",
            "\u001b[0;32m/usr/local/lib/python3.7/dist-packages/matplotlib/colors.py\u001b[0m in \u001b[0;36mto_rgba_array\u001b[0;34m(c, alpha)\u001b[0m\n\u001b[1;32m    329\u001b[0m                 \u001b[0;34m\"consisting of single character color specifiers such as \"\u001b[0m\u001b[0;34m\u001b[0m\u001b[0;34m\u001b[0m\u001b[0m\n\u001b[0;32m--> 330\u001b[0;31m                 \"'rgb'. Note also that the latter is deprecated.\" % c)\n\u001b[0m\u001b[1;32m    331\u001b[0m         \u001b[0;32melse\u001b[0m\u001b[0;34m:\u001b[0m\u001b[0;34m\u001b[0m\u001b[0;34m\u001b[0m\u001b[0m\n",
            "\u001b[0;31mValueError\u001b[0m: 'cividis' is neither a valid single color nor a color sequence consisting of single character color specifiers such as 'rgb'. Note also that the latter is deprecated.",
            "\nDuring handling of the above exception, another exception occurred:\n",
            "\u001b[0;31mValueError\u001b[0m                                Traceback (most recent call last)",
            "\u001b[0;32m<ipython-input-45-43e083297867>\u001b[0m in \u001b[0;36m<module>\u001b[0;34m\u001b[0m\n\u001b[1;32m      8\u001b[0m \u001b[0mpenguin_df\u001b[0m\u001b[0;34m[\u001b[0m\u001b[0mpenguin_df\u001b[0m\u001b[0;34m[\u001b[0m\u001b[0;34m'species'\u001b[0m\u001b[0;34m]\u001b[0m\u001b[0;34m==\u001b[0m\u001b[0;34m'Chinstrap'\u001b[0m\u001b[0;34m]\u001b[0m\u001b[0;34m\u001b[0m\u001b[0;34m\u001b[0m\u001b[0m\n\u001b[1;32m      9\u001b[0m \u001b[0;34m\u001b[0m\u001b[0m\n\u001b[0;32m---> 10\u001b[0;31m \u001b[0mplt\u001b[0m\u001b[0;34m.\u001b[0m\u001b[0mscatter\u001b[0m\u001b[0;34m(\u001b[0m\u001b[0mAdelie\u001b[0m\u001b[0;34m[\u001b[0m\u001b[0;34m'culmen_length_mm'\u001b[0m\u001b[0;34m]\u001b[0m\u001b[0;34m,\u001b[0m \u001b[0mAdelie\u001b[0m\u001b[0;34m[\u001b[0m\u001b[0;34m'flipper_length_mm'\u001b[0m\u001b[0;34m]\u001b[0m\u001b[0;34m,\u001b[0m\u001b[0ms\u001b[0m\u001b[0;34m=\u001b[0m\u001b[0;36m50\u001b[0m\u001b[0;34m,\u001b[0m\u001b[0mmarker\u001b[0m\u001b[0;34m=\u001b[0m\u001b[0;34m'o'\u001b[0m\u001b[0;34m,\u001b[0m\u001b[0mlabel\u001b[0m\u001b[0;34m=\u001b[0m\u001b[0;34m'Adelie'\u001b[0m\u001b[0;34m,\u001b[0m\u001b[0mc\u001b[0m\u001b[0;34m=\u001b[0m\u001b[0;34m'cividis'\u001b[0m\u001b[0;34m,\u001b[0m\u001b[0medgecolors\u001b[0m\u001b[0;34m=\u001b[0m\u001b[0;34m'k'\u001b[0m\u001b[0;34m,\u001b[0m\u001b[0mlinewidths\u001b[0m\u001b[0;34m=\u001b[0m\u001b[0;36m0.5\u001b[0m\u001b[0;34m)\u001b[0m\u001b[0;34m\u001b[0m\u001b[0;34m\u001b[0m\u001b[0m\n\u001b[0m\u001b[1;32m     11\u001b[0m \u001b[0mplt\u001b[0m\u001b[0;34m.\u001b[0m\u001b[0mscatter\u001b[0m\u001b[0;34m(\u001b[0m\u001b[0mGentoo\u001b[0m\u001b[0;34m[\u001b[0m\u001b[0;34m'culmen_length_mm'\u001b[0m\u001b[0;34m]\u001b[0m\u001b[0;34m,\u001b[0m \u001b[0mGentoo\u001b[0m\u001b[0;34m[\u001b[0m\u001b[0;34m'flipper_length_mm'\u001b[0m\u001b[0;34m]\u001b[0m\u001b[0;34m,\u001b[0m\u001b[0ms\u001b[0m\u001b[0;34m=\u001b[0m\u001b[0;36m30\u001b[0m\u001b[0;34m,\u001b[0m\u001b[0mmarker\u001b[0m\u001b[0;34m=\u001b[0m\u001b[0;34m's'\u001b[0m\u001b[0;34m,\u001b[0m\u001b[0mlabel\u001b[0m\u001b[0;34m=\u001b[0m\u001b[0;34m'Gentoo'\u001b[0m\u001b[0;34m,\u001b[0m\u001b[0mc\u001b[0m\u001b[0;34m=\u001b[0m\u001b[0;34m'cividis'\u001b[0m\u001b[0;34m,\u001b[0m\u001b[0medgecolors\u001b[0m\u001b[0;34m=\u001b[0m\u001b[0;34m'k'\u001b[0m\u001b[0;34m,\u001b[0m\u001b[0mlinewidths\u001b[0m\u001b[0;34m=\u001b[0m\u001b[0;36m0.5\u001b[0m\u001b[0;34m)\u001b[0m\u001b[0;34m\u001b[0m\u001b[0;34m\u001b[0m\u001b[0m\n\u001b[1;32m     12\u001b[0m \u001b[0mplt\u001b[0m\u001b[0;34m.\u001b[0m\u001b[0mscatter\u001b[0m\u001b[0;34m(\u001b[0m\u001b[0mChinstrap\u001b[0m\u001b[0;34m[\u001b[0m\u001b[0;34m'culmen_length_mm'\u001b[0m\u001b[0;34m]\u001b[0m\u001b[0;34m,\u001b[0m \u001b[0mChinstrap\u001b[0m\u001b[0;34m[\u001b[0m\u001b[0;34m'flipper_length_mm'\u001b[0m\u001b[0;34m]\u001b[0m\u001b[0;34m,\u001b[0m\u001b[0ms\u001b[0m\u001b[0;34m=\u001b[0m\u001b[0;36m50\u001b[0m\u001b[0;34m,\u001b[0m\u001b[0mmarker\u001b[0m\u001b[0;34m=\u001b[0m\u001b[0;34m'*'\u001b[0m\u001b[0;34m,\u001b[0m\u001b[0mlabel\u001b[0m\u001b[0;34m=\u001b[0m\u001b[0;34m'Chinstrap'\u001b[0m\u001b[0;34m,\u001b[0m\u001b[0mc\u001b[0m\u001b[0;34m=\u001b[0m\u001b[0;34m'cividis'\u001b[0m\u001b[0;34m,\u001b[0m\u001b[0medgecolors\u001b[0m\u001b[0;34m=\u001b[0m\u001b[0;34m'k'\u001b[0m\u001b[0;34m,\u001b[0m\u001b[0mlinewidths\u001b[0m\u001b[0;34m=\u001b[0m\u001b[0;36m0.5\u001b[0m\u001b[0;34m)\u001b[0m\u001b[0;34m\u001b[0m\u001b[0;34m\u001b[0m\u001b[0m\n",
            "\u001b[0;32m/usr/local/lib/python3.7/dist-packages/matplotlib/pyplot.py\u001b[0m in \u001b[0;36mscatter\u001b[0;34m(x, y, s, c, marker, cmap, norm, vmin, vmax, alpha, linewidths, verts, edgecolors, plotnonfinite, data, **kwargs)\u001b[0m\n\u001b[1;32m   2814\u001b[0m         \u001b[0mverts\u001b[0m\u001b[0;34m=\u001b[0m\u001b[0mverts\u001b[0m\u001b[0;34m,\u001b[0m \u001b[0medgecolors\u001b[0m\u001b[0;34m=\u001b[0m\u001b[0medgecolors\u001b[0m\u001b[0;34m,\u001b[0m\u001b[0;34m\u001b[0m\u001b[0;34m\u001b[0m\u001b[0m\n\u001b[1;32m   2815\u001b[0m         plotnonfinite=plotnonfinite, **({\"data\": data} if data is not\n\u001b[0;32m-> 2816\u001b[0;31m         None else {}), **kwargs)\n\u001b[0m\u001b[1;32m   2817\u001b[0m     \u001b[0msci\u001b[0m\u001b[0;34m(\u001b[0m\u001b[0m__ret\u001b[0m\u001b[0;34m)\u001b[0m\u001b[0;34m\u001b[0m\u001b[0;34m\u001b[0m\u001b[0m\n\u001b[1;32m   2818\u001b[0m     \u001b[0;32mreturn\u001b[0m \u001b[0m__ret\u001b[0m\u001b[0;34m\u001b[0m\u001b[0;34m\u001b[0m\u001b[0m\n",
            "\u001b[0;32m/usr/local/lib/python3.7/dist-packages/matplotlib/__init__.py\u001b[0m in \u001b[0;36minner\u001b[0;34m(ax, data, *args, **kwargs)\u001b[0m\n\u001b[1;32m   1563\u001b[0m     \u001b[0;32mdef\u001b[0m \u001b[0minner\u001b[0m\u001b[0;34m(\u001b[0m\u001b[0max\u001b[0m\u001b[0;34m,\u001b[0m \u001b[0;34m*\u001b[0m\u001b[0margs\u001b[0m\u001b[0;34m,\u001b[0m \u001b[0mdata\u001b[0m\u001b[0;34m=\u001b[0m\u001b[0;32mNone\u001b[0m\u001b[0;34m,\u001b[0m \u001b[0;34m**\u001b[0m\u001b[0mkwargs\u001b[0m\u001b[0;34m)\u001b[0m\u001b[0;34m:\u001b[0m\u001b[0;34m\u001b[0m\u001b[0;34m\u001b[0m\u001b[0m\n\u001b[1;32m   1564\u001b[0m         \u001b[0;32mif\u001b[0m \u001b[0mdata\u001b[0m \u001b[0;32mis\u001b[0m \u001b[0;32mNone\u001b[0m\u001b[0;34m:\u001b[0m\u001b[0;34m\u001b[0m\u001b[0;34m\u001b[0m\u001b[0m\n\u001b[0;32m-> 1565\u001b[0;31m             \u001b[0;32mreturn\u001b[0m \u001b[0mfunc\u001b[0m\u001b[0;34m(\u001b[0m\u001b[0max\u001b[0m\u001b[0;34m,\u001b[0m \u001b[0;34m*\u001b[0m\u001b[0mmap\u001b[0m\u001b[0;34m(\u001b[0m\u001b[0msanitize_sequence\u001b[0m\u001b[0;34m,\u001b[0m \u001b[0margs\u001b[0m\u001b[0;34m)\u001b[0m\u001b[0;34m,\u001b[0m \u001b[0;34m**\u001b[0m\u001b[0mkwargs\u001b[0m\u001b[0;34m)\u001b[0m\u001b[0;34m\u001b[0m\u001b[0;34m\u001b[0m\u001b[0m\n\u001b[0m\u001b[1;32m   1566\u001b[0m \u001b[0;34m\u001b[0m\u001b[0m\n\u001b[1;32m   1567\u001b[0m         \u001b[0mbound\u001b[0m \u001b[0;34m=\u001b[0m \u001b[0mnew_sig\u001b[0m\u001b[0;34m.\u001b[0m\u001b[0mbind\u001b[0m\u001b[0;34m(\u001b[0m\u001b[0max\u001b[0m\u001b[0;34m,\u001b[0m \u001b[0;34m*\u001b[0m\u001b[0margs\u001b[0m\u001b[0;34m,\u001b[0m \u001b[0;34m**\u001b[0m\u001b[0mkwargs\u001b[0m\u001b[0;34m)\u001b[0m\u001b[0;34m\u001b[0m\u001b[0;34m\u001b[0m\u001b[0m\n",
            "\u001b[0;32m/usr/local/lib/python3.7/dist-packages/matplotlib/cbook/deprecation.py\u001b[0m in \u001b[0;36mwrapper\u001b[0;34m(*args, **kwargs)\u001b[0m\n\u001b[1;32m    356\u001b[0m                 \u001b[0;34mf\"%(removal)s.  If any parameter follows {name!r}, they \"\u001b[0m\u001b[0;34m\u001b[0m\u001b[0;34m\u001b[0m\u001b[0m\n\u001b[1;32m    357\u001b[0m                 f\"should be pass as keyword, not positionally.\")\n\u001b[0;32m--> 358\u001b[0;31m         \u001b[0;32mreturn\u001b[0m \u001b[0mfunc\u001b[0m\u001b[0;34m(\u001b[0m\u001b[0;34m*\u001b[0m\u001b[0margs\u001b[0m\u001b[0;34m,\u001b[0m \u001b[0;34m**\u001b[0m\u001b[0mkwargs\u001b[0m\u001b[0;34m)\u001b[0m\u001b[0;34m\u001b[0m\u001b[0;34m\u001b[0m\u001b[0m\n\u001b[0m\u001b[1;32m    359\u001b[0m \u001b[0;34m\u001b[0m\u001b[0m\n\u001b[1;32m    360\u001b[0m     \u001b[0;32mreturn\u001b[0m \u001b[0mwrapper\u001b[0m\u001b[0;34m\u001b[0m\u001b[0;34m\u001b[0m\u001b[0m\n",
            "\u001b[0;32m/usr/local/lib/python3.7/dist-packages/matplotlib/axes/_axes.py\u001b[0m in \u001b[0;36mscatter\u001b[0;34m(self, x, y, s, c, marker, cmap, norm, vmin, vmax, alpha, linewidths, verts, edgecolors, plotnonfinite, **kwargs)\u001b[0m\n\u001b[1;32m   4401\u001b[0m             self._parse_scatter_color_args(\n\u001b[1;32m   4402\u001b[0m                 \u001b[0mc\u001b[0m\u001b[0;34m,\u001b[0m \u001b[0medgecolors\u001b[0m\u001b[0;34m,\u001b[0m \u001b[0mkwargs\u001b[0m\u001b[0;34m,\u001b[0m \u001b[0mx\u001b[0m\u001b[0;34m.\u001b[0m\u001b[0msize\u001b[0m\u001b[0;34m,\u001b[0m\u001b[0;34m\u001b[0m\u001b[0;34m\u001b[0m\u001b[0m\n\u001b[0;32m-> 4403\u001b[0;31m                 get_next_color_func=self._get_patches_for_fill.get_next_color)\n\u001b[0m\u001b[1;32m   4404\u001b[0m \u001b[0;34m\u001b[0m\u001b[0m\n\u001b[1;32m   4405\u001b[0m         \u001b[0;32mif\u001b[0m \u001b[0mplotnonfinite\u001b[0m \u001b[0;32mand\u001b[0m \u001b[0mcolors\u001b[0m \u001b[0;32mis\u001b[0m \u001b[0;32mNone\u001b[0m\u001b[0;34m:\u001b[0m\u001b[0;34m\u001b[0m\u001b[0;34m\u001b[0m\u001b[0m\n",
            "\u001b[0;32m/usr/local/lib/python3.7/dist-packages/matplotlib/axes/_axes.py\u001b[0m in \u001b[0;36m_parse_scatter_color_args\u001b[0;34m(c, edgecolors, kwargs, xsize, get_next_color_func)\u001b[0m\n\u001b[1;32m   4244\u001b[0m                 \u001b[0;31m# severe failure => one may appreciate a verbose feedback.\u001b[0m\u001b[0;34m\u001b[0m\u001b[0;34m\u001b[0m\u001b[0;34m\u001b[0m\u001b[0m\n\u001b[1;32m   4245\u001b[0m                 raise ValueError(\n\u001b[0;32m-> 4246\u001b[0;31m                     \u001b[0;34mf\"'c' argument must be a color, a sequence of colors, or \"\u001b[0m\u001b[0;34m\u001b[0m\u001b[0;34m\u001b[0m\u001b[0m\n\u001b[0m\u001b[1;32m   4247\u001b[0m                     f\"a sequence of numbers, not {c}\")\n\u001b[1;32m   4248\u001b[0m             \u001b[0;32melse\u001b[0m\u001b[0;34m:\u001b[0m\u001b[0;34m\u001b[0m\u001b[0;34m\u001b[0m\u001b[0m\n",
            "\u001b[0;31mValueError\u001b[0m: 'c' argument must be a color, a sequence of colors, or a sequence of numbers, not cividis"
          ]
        },
        {
          "output_type": "display_data",
          "data": {
            "text/plain": [
              "<Figure size 432x288 with 1 Axes>"
            ],
            "image/png": "[encoded data removed]"
          },
          "metadata": {
            "needs_background": "light"
          }
        }
      ]
    },
    {
      "cell_type": "markdown",
      "source": [
        "Recreate the figure below\n",
        "\n",
        "![plot3.png](data:image/png;base64,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)"
      ],
      "metadata": {
        "id": "6ZgZ1HyrDp1F"
      }
    },
    {
      "cell_type": "code",
      "source": [
        "# \n",
        "plt.scatter(_____, _________,c=_______,s=50,marker=___,label='Adelie', cmap='cividis',edgecolors='k',linewidths=0.5,vmin=___,vmax=___)\n",
        "plt.scatter(_____, _________,c=_______,s=30,marker=___,label='Gentoo', cmap='cividis',edgecolors='k',linewidths=0.5,vmin=___,vmax=___)\n",
        "plt.scatter(_____, _________,c=_______,s=70,marker=___,label='Chinstrap', cmap='cividis',edgecolors='k',linewidths=0.5,vmin=____,vmax=____)\n",
        "plt.______(__________)\n",
        "plt.ylabel(___________)\n",
        "plt.xlabel(___________)\n",
        "plt._________\n",
        "plt.show()"
      ],
      "metadata": {
        "id": "hxbKOXfHG4Ek"
      },
      "execution_count": null,
      "outputs": []
    },
    {
      "cell_type": "markdown",
      "source": [
        "##### **Task3: Train the KMeans clustering with 2 clusters**"
      ],
      "metadata": {
        "id": "3yPfjCszD4Ni"
      }
    },
    {
      "cell_type": "code",
      "source": [
        "\n",
        "# Train k-means clustering algorithm here\n",
        "\n",
        "# Predict labels"
      ],
      "metadata": {
        "id": "U1f2VSwWJu7W"
      },
      "execution_count": null,
      "outputs": []
    },
    {
      "cell_type": "markdown",
      "source": [
        "We got this figure with our model. Can you recreate it?\n",
        "\n",
        "![plot4.png](data:image/png;base64,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)"
      ],
      "metadata": {
        "id": "I4sZITWIEHwl"
      }
    }
  ]
}